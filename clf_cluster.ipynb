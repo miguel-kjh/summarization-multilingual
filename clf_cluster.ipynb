{
 "cells": [
  {
   "cell_type": "code",
   "execution_count": 1,
   "metadata": {},
   "outputs": [
    {
     "name": "stderr",
     "output_type": "stream",
     "text": [
      "Seed set to 3407\n"
     ]
    },
    {
     "data": {
      "text/plain": [
       "3407"
      ]
     },
     "execution_count": 1,
     "metadata": {},
     "output_type": "execute_result"
    }
   ],
   "source": [
    "import pickle\n",
    "import numpy as np\n",
    "import matplotlib.pyplot as plt\n",
    "import pandas as pd\n",
    "from sklearn.manifold import TSNE\n",
    "from lazypredict.Supervised import LazyClassifier\n",
    "import numpy as np\n",
    "from sklearn.datasets import make_classification\n",
    "from sklearn.ensemble import RandomForestClassifier\n",
    "from sklearn.model_selection import train_test_split, RandomizedSearchCV\n",
    "from sklearn.svm import NuSVC, SVC\n",
    "from sklearn.naive_bayes import GaussianNB\n",
    "from sklearn.metrics import classification_report\n",
    "import joblib  # Para guardar los modelos\n",
    "from lightning import seed_everything\n",
    "\n",
    "from utils import SEED\n",
    "\n",
    "# SET RANDOM SEED\n",
    "seed_everything(SEED)"
   ]
  },
  {
   "cell_type": "code",
   "execution_count": 2,
   "metadata": {},
   "outputs": [],
   "source": [
    "def read_pickle(filename: str) -> pd.DataFrame:\n",
    "    with open(filename, 'rb') as f:\n",
    "        return pd.DataFrame(pickle.load(f))"
   ]
  },
  {
   "cell_type": "code",
   "execution_count": 3,
   "metadata": {},
   "outputs": [],
   "source": [
    "dataset_train_path = \"data/03-combined/spanish_paragraphs_clustering/clustring_embedding_train.pkl\"\n",
    "dataset_test_path = \"data/03-combined/spanish_paragraphs_clustering/clustring_embedding_test.pkl\"\n",
    "\n",
    "dataset_train = read_pickle(dataset_train_path)\n",
    "dataset_test = read_pickle(dataset_test_path)"
   ]
  },
  {
   "cell_type": "code",
   "execution_count": 5,
   "metadata": {},
   "outputs": [],
   "source": [
    "\n",
    "tsne = TSNE(n_components=2, random_state=0, perplexity=min(30, len(dataset_train[\"sample\"])-1), n_iter=1000)\n",
    "\n",
    "X_2d = tsne.fit_transform(np.array(dataset_train[\"sample\"].to_list()))"
   ]
  },
  {
   "cell_type": "code",
   "execution_count": 6,
   "metadata": {},
   "outputs": [
    {
     "data": {
      "image/png": "[encoded data removed]",
      "text/plain": [
       "<Figure size 600x500 with 1 Axes>"
      ]
     },
     "metadata": {},
     "output_type": "display_data"
    }
   ],
   "source": [
    "# represent the data in a scatter plot the are only 2 clusters the colors must be red for 0 and blue for 1\n",
    "colors = ['red', 'blue']\n",
    "plt.figure(figsize=(6, 5))\n",
    "for i in range(len(X_2d)):\n",
    "    plt.scatter(X_2d[i, 0], X_2d[i, 1], color=colors[dataset_train['label'][i]], s=10)\n",
    "# add legend\n",
    "plt.legend(['1', '0'], loc='upper right')\n",
    "plt.show()"
   ]
  },
  {
   "cell_type": "code",
   "execution_count": 4,
   "metadata": {},
   "outputs": [
    {
     "data": {
      "image/png": "[encoded data removed]",
      "text/plain": [
       "<Figure size 640x480 with 1 Axes>"
      ]
     },
     "metadata": {},
     "output_type": "display_data"
    }
   ],
   "source": [
    "# Count the occurrences of each label\n",
    "label_counts = dataset_train['label'].value_counts()\n",
    "\n",
    "# Plot the histogram manually to assign colors per label\n",
    "plt.bar(label_counts.index, label_counts.values, color=['blue', 'red'], alpha=0.7, edgecolor='black')\n",
    "\n",
    "# Adding labels, legend, and title\n",
    "plt.title(\"Distribution of Labels\")\n",
    "plt.xlabel(\"Labels\")\n",
    "plt.ylabel(\"Frequency\")\n",
    "plt.xticks([0, 1], ['Class 0', 'Class 1'])\n",
    "#plt.legend(['Class 0', 'Class 1'], loc=\"upper right\")\n",
    "\n",
    "# Show the plot\n",
    "plt.show()"
   ]
  },
  {
   "cell_type": "markdown",
   "metadata": {},
   "source": [
    "## CLF"
   ]
  },
  {
   "cell_type": "code",
   "execution_count": 5,
   "metadata": {},
   "outputs": [],
   "source": [
    "X_train = np.array(dataset_train[\"sample\"].to_list())\n",
    "# get subset of the data using shuffle\n",
    "X_train = X_train[:1000]\n",
    "y_train = np.array(dataset_train[\"label\"].to_list())\n",
    "y_train = y_train[:1000]\n",
    "X_test = np.array(dataset_test[\"sample\"].to_list())\n",
    "y_test = np.array(dataset_test[\"label\"].to_list())"
   ]
  },
  {
   "cell_type": "code",
   "execution_count": 6,
   "metadata": {},
   "outputs": [
    {
     "name": "stderr",
     "output_type": "stream",
     "text": [
      " 97%|█████████▋| 30/31 [00:25<00:00,  2.06it/s]"
     ]
    },
    {
     "name": "stdout",
     "output_type": "stream",
     "text": [
      "[LightGBM] [Info] Number of positive: 252, number of negative: 748\n",
      "[LightGBM] [Info] Auto-choosing col-wise multi-threading, the overhead of testing was 0.007225 seconds.\n",
      "You can set `force_col_wise=true` to remove the overhead.\n",
      "[LightGBM] [Info] Total Bins 195840\n",
      "[LightGBM] [Info] Number of data points in the train set: 1000, number of used features: 768\n",
      "[LightGBM] [Info] [binary:BoostFromScore]: pavg=0.252000 -> initscore=-1.087974\n",
      "[LightGBM] [Info] Start training from score -1.087974\n"
     ]
    },
    {
     "name": "stderr",
     "output_type": "stream",
     "text": [
      "100%|██████████| 31/31 [00:26<00:00,  1.18it/s]\n"
     ]
    }
   ],
   "source": [
    "clf = LazyClassifier(verbose=0,ignore_warnings=True, custom_metric=None)\n",
    "models,predictions = clf.fit(X_train, X_test, y_train, y_test)"
   ]
  },
  {
   "cell_type": "code",
   "execution_count": 7,
   "metadata": {},
   "outputs": [
    {
     "name": "stdout",
     "output_type": "stream",
     "text": [
      "                               Accuracy  Balanced Accuracy  ROC AUC  F1 Score  \\\n",
      "Model                                                                           \n",
      "GaussianNB                         0.58               0.62     0.62      0.61   \n",
      "LGBMClassifier                     0.78               0.61     0.61      0.75   \n",
      "BernoulliNB                        0.64               0.60     0.60      0.66   \n",
      "NearestCentroid                    0.62               0.59     0.59      0.64   \n",
      "XGBClassifier                      0.77               0.59     0.59      0.73   \n",
      "AdaBoostClassifier                 0.70               0.58     0.58      0.70   \n",
      "KNeighborsClassifier               0.45               0.57     0.57      0.46   \n",
      "DecisionTreeClassifier             0.66               0.56     0.56      0.67   \n",
      "NuSVC                              0.77               0.56     0.56      0.71   \n",
      "RandomForestClassifier             0.78               0.56     0.56      0.71   \n",
      "ExtraTreesClassifier               0.77               0.56     0.56      0.71   \n",
      "SVC                                0.77               0.55     0.55      0.71   \n",
      "BaggingClassifier                  0.74               0.54     0.54      0.69   \n",
      "Perceptron                         0.64               0.53     0.53      0.65   \n",
      "LinearDiscriminantAnalysis         0.57               0.53     0.53      0.60   \n",
      "SGDClassifier                      0.62               0.52     0.52      0.63   \n",
      "RidgeClassifierCV                  0.64               0.52     0.52      0.64   \n",
      "ExtraTreeClassifier                0.63               0.52     0.52      0.64   \n",
      "RidgeClassifier                    0.58               0.51     0.51      0.61   \n",
      "QuadraticDiscriminantAnalysis      0.31               0.51     0.51      0.26   \n",
      "LinearSVC                          0.57               0.51     0.51      0.59   \n",
      "PassiveAggressiveClassifier        0.56               0.50     0.50      0.59   \n",
      "LabelSpreading                     0.76               0.50     0.50      0.66   \n",
      "LabelPropagation                   0.76               0.50     0.50      0.66   \n",
      "LogisticRegression                 0.61               0.50     0.50      0.62   \n",
      "DummyClassifier                    0.76               0.50     0.50      0.65   \n",
      "CalibratedClassifierCV             0.76               0.50     0.50      0.65   \n",
      "\n",
      "                               Time Taken  \n",
      "Model                                      \n",
      "GaussianNB                           0.05  \n",
      "LGBMClassifier                       0.60  \n",
      "BernoulliNB                          0.09  \n",
      "NearestCentroid                      0.08  \n",
      "XGBClassifier                        1.96  \n",
      "AdaBoostClassifier                   3.10  \n",
      "KNeighborsClassifier                 0.07  \n",
      "DecisionTreeClassifier               0.48  \n",
      "NuSVC                                0.43  \n",
      "RandomForestClassifier               1.13  \n",
      "ExtraTreesClassifier                 0.25  \n",
      "SVC                                  0.46  \n",
      "BaggingClassifier                    2.85  \n",
      "Perceptron                           0.06  \n",
      "LinearDiscriminantAnalysis           0.29  \n",
      "SGDClassifier                        0.08  \n",
      "RidgeClassifierCV                    0.32  \n",
      "ExtraTreeClassifier                  0.03  \n",
      "RidgeClassifier                      0.06  \n",
      "QuadraticDiscriminantAnalysis        0.42  \n",
      "LinearSVC                            1.95  \n",
      "PassiveAggressiveClassifier          0.07  \n",
      "LabelSpreading                       0.10  \n",
      "LabelPropagation                     0.10  \n",
      "LogisticRegression                   0.26  \n",
      "DummyClassifier                      0.03  \n",
      "CalibratedClassifierCV              10.83  \n"
     ]
    }
   ],
   "source": [
    "print(models)"
   ]
  },
  {
   "cell_type": "code",
   "execution_count": 8,
   "metadata": {},
   "outputs": [
    {
     "name": "stdout",
     "output_type": "stream",
     "text": [
      "                               Accuracy  Balanced Accuracy  ROC AUC  F1 Score  \\\n",
      "Model                                                                           \n",
      "GaussianNB                         0.58               0.62     0.62      0.61   \n",
      "LGBMClassifier                     0.78               0.61     0.61      0.75   \n",
      "BernoulliNB                        0.64               0.60     0.60      0.66   \n",
      "NearestCentroid                    0.62               0.59     0.59      0.64   \n",
      "XGBClassifier                      0.77               0.59     0.59      0.73   \n",
      "AdaBoostClassifier                 0.70               0.58     0.58      0.70   \n",
      "KNeighborsClassifier               0.45               0.57     0.57      0.46   \n",
      "DecisionTreeClassifier             0.66               0.56     0.56      0.67   \n",
      "NuSVC                              0.77               0.56     0.56      0.71   \n",
      "RandomForestClassifier             0.78               0.56     0.56      0.71   \n",
      "ExtraTreesClassifier               0.77               0.56     0.56      0.71   \n",
      "SVC                                0.77               0.55     0.55      0.71   \n",
      "BaggingClassifier                  0.74               0.54     0.54      0.69   \n",
      "Perceptron                         0.64               0.53     0.53      0.65   \n",
      "LinearDiscriminantAnalysis         0.57               0.53     0.53      0.60   \n",
      "SGDClassifier                      0.62               0.52     0.52      0.63   \n",
      "RidgeClassifierCV                  0.64               0.52     0.52      0.64   \n",
      "ExtraTreeClassifier                0.63               0.52     0.52      0.64   \n",
      "RidgeClassifier                    0.58               0.51     0.51      0.61   \n",
      "QuadraticDiscriminantAnalysis      0.31               0.51     0.51      0.26   \n",
      "LinearSVC                          0.57               0.51     0.51      0.59   \n",
      "PassiveAggressiveClassifier        0.56               0.50     0.50      0.59   \n",
      "LabelSpreading                     0.76               0.50     0.50      0.66   \n",
      "LabelPropagation                   0.76               0.50     0.50      0.66   \n",
      "LogisticRegression                 0.61               0.50     0.50      0.62   \n",
      "DummyClassifier                    0.76               0.50     0.50      0.65   \n",
      "CalibratedClassifierCV             0.76               0.50     0.50      0.65   \n",
      "\n",
      "                               Time Taken  \n",
      "Model                                      \n",
      "GaussianNB                           0.05  \n",
      "LGBMClassifier                       0.60  \n",
      "BernoulliNB                          0.09  \n",
      "NearestCentroid                      0.08  \n",
      "XGBClassifier                        1.96  \n",
      "AdaBoostClassifier                   3.10  \n",
      "KNeighborsClassifier                 0.07  \n",
      "DecisionTreeClassifier               0.48  \n",
      "NuSVC                                0.43  \n",
      "RandomForestClassifier               1.13  \n",
      "ExtraTreesClassifier                 0.25  \n",
      "SVC                                  0.46  \n",
      "BaggingClassifier                    2.85  \n",
      "Perceptron                           0.06  \n",
      "LinearDiscriminantAnalysis           0.29  \n",
      "SGDClassifier                        0.08  \n",
      "RidgeClassifierCV                    0.32  \n",
      "ExtraTreeClassifier                  0.03  \n",
      "RidgeClassifier                      0.06  \n",
      "QuadraticDiscriminantAnalysis        0.42  \n",
      "LinearSVC                            1.95  \n",
      "PassiveAggressiveClassifier          0.07  \n",
      "LabelSpreading                       0.10  \n",
      "LabelPropagation                     0.10  \n",
      "LogisticRegression                   0.26  \n",
      "DummyClassifier                      0.03  \n",
      "CalibratedClassifierCV              10.83  \n"
     ]
    }
   ],
   "source": [
    "print(predictions)"
   ]
  },
  {
   "cell_type": "markdown",
   "metadata": {},
   "source": [
    "# Optimzed clf"
   ]
  },
  {
   "cell_type": "code",
   "execution_count": 13,
   "metadata": {},
   "outputs": [
    {
     "name": "stdout",
     "output_type": "stream",
     "text": [
      "(7089, 768)\n"
     ]
    }
   ],
   "source": [
    "X_train = np.array(dataset_train[\"sample\"].to_list())\n",
    "print(X_train.shape)\n",
    "y_train = np.array(dataset_train[\"label\"].to_list())\n",
    "X_test = np.array(dataset_test[\"sample\"].to_list())\n",
    "y_test = np.array(dataset_test[\"label\"].to_list())"
   ]
  },
  {
   "cell_type": "code",
   "execution_count": 10,
   "metadata": {},
   "outputs": [
    {
     "name": "stdout",
     "output_type": "stream",
     "text": [
      "\n",
      "Optimizing RandomForest...\n",
      "Best parameters for RandomForest: {'n_estimators': 50, 'min_samples_split': 2, 'min_samples_leaf': 2, 'max_depth': 20, 'bootstrap': False}\n",
      "Classification report for RandomForest:\n",
      "              precision    recall  f1-score   support\n",
      "\n",
      "           0       0.81      0.93      0.87      1622\n",
      "           1       0.60      0.34      0.43       523\n",
      "\n",
      "    accuracy                           0.78      2145\n",
      "   macro avg       0.71      0.63      0.65      2145\n",
      "weighted avg       0.76      0.78      0.76      2145\n",
      "\n"
     ]
    }
   ],
   "source": [
    "\n",
    "\n",
    "# Definición de modelos y sus respectivos hiperparámetros\n",
    "models = {\n",
    "    \"RandomForest\": (RandomForestClassifier(n_jobs=-1), {\n",
    "        \"n_estimators\": [50, 100, 200],\n",
    "        \"max_depth\": [None, 10, 20, 30],\n",
    "        \"min_samples_split\": [2, 5, 10],\n",
    "        \"min_samples_leaf\": [1, 2, 4],\n",
    "        \"bootstrap\": [True, False]\n",
    "    }),\n",
    "}\n",
    "\n",
    "# Diccionario para guardar los mejores modelos\n",
    "best_models = {}\n",
    "\n",
    "# Optimización y evaluación\n",
    "for model_name, (model, param_grid) in models.items():\n",
    "    print(f\"\\nOptimizing {model_name}...\")\n",
    "    grid_search = RandomizedSearchCV(model, param_grid, cv=5, scoring='accuracy', n_jobs=-1)\n",
    "    grid_search.fit(X_train, y_train)\n",
    "    \n",
    "    # Mejores hiperparámetros\n",
    "    print(f\"Best parameters for {model_name}: {grid_search.best_params_}\")\n",
    "    \n",
    "    # Evaluación en conjunto de prueba\n",
    "    best_model = grid_search.best_estimator_\n",
    "    y_pred = best_model.predict(X_test)\n",
    "    print(f\"Classification report for {model_name}:\\n{classification_report(y_test, y_pred)}\")\n",
    "    \n",
    "    # Guardar el mejor modelo en el diccionario\n",
    "    best_models[model_name] = best_model"
   ]
  },
  {
   "cell_type": "code",
   "execution_count": 11,
   "metadata": {},
   "outputs": [
    {
     "name": "stdout",
     "output_type": "stream",
     "text": [
      "Modelo RandomForest guardado como models/RandomForest_best_model_para.pkl\n"
     ]
    }
   ],
   "source": [
    "import os\n",
    "\n",
    "model_to_save = \"RandomForest\"  # Cambiar por \"SVC\" o \"GaussianNB\" si se prefiere otro\n",
    "FOLDER = \"models\"\n",
    "os.makedirs(FOLDER, exist_ok=True)\n",
    "if model_to_save in best_models:\n",
    "    file = os.path.join(FOLDER, f\"{model_to_save}_best_model_para.pkl\")\n",
    "    joblib.dump(best_models[model_to_save], file)\n",
    "    print(f\"Modelo {model_to_save} guardado como {file}\")\n",
    "else:\n",
    "    print(f\"No se encontró el modelo {model_to_save} en el diccionario.\")\n"
   ]
  },
  {
   "cell_type": "code",
   "execution_count": 12,
   "metadata": {},
   "outputs": [
    {
     "name": "stdout",
     "output_type": "stream",
     "text": [
      "RandomForestClassifier(bootstrap=False, max_depth=20, min_samples_leaf=2,\n",
      "                       n_estimators=50, n_jobs=-1)\n"
     ]
    }
   ],
   "source": [
    "# load the model\n",
    "loaded_model = joblib.load(file)\n",
    "print(loaded_model)"
   ]
  }
 ],
 "metadata": {
  "kernelspec": {
   "display_name": "summarization-multilingual",
   "language": "python",
   "name": "python3"
  },
  "language_info": {
   "codemirror_mode": {
    "name": "ipython",
    "version": 3
   },
   "file_extension": ".py",
   "mimetype": "text/x-python",
   "name": "python",
   "nbconvert_exporter": "python",
   "pygments_lexer": "ipython3",
   "version": "3.10.15"
  }
 },
 "nbformat": 4,
 "nbformat_minor": 2
}
