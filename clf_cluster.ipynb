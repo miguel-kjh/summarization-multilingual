{
 "cells": [
  {
   "cell_type": "code",
   "execution_count": 1,
   "metadata": {},
   "outputs": [
    {
     "name": "stderr",
     "output_type": "stream",
     "text": [
      "Seed set to 3407\n"
     ]
    },
    {
     "data": {
      "text/plain": [
       "3407"
      ]
     },
     "execution_count": 1,
     "metadata": {},
     "output_type": "execute_result"
    }
   ],
   "source": [
    "import pickle\n",
    "import numpy as np\n",
    "import matplotlib.pyplot as plt\n",
    "import pandas as pd\n",
    "from sklearn.manifold import TSNE\n",
    "from lazypredict.Supervised import LazyClassifier\n",
    "import numpy as np\n",
    "from sklearn.datasets import make_classification\n",
    "from sklearn.ensemble import RandomForestClassifier\n",
    "from sklearn.model_selection import train_test_split, RandomizedSearchCV\n",
    "from sklearn.svm import NuSVC, SVC\n",
    "from sklearn.naive_bayes import GaussianNB\n",
    "from sklearn.metrics import classification_report\n",
    "import joblib  # Para guardar los modelos\n",
    "from lightning import seed_everything\n",
    "\n",
    "from utils import SEED\n",
    "\n",
    "# SET RANDOM SEED\n",
    "seed_everything(SEED)"
   ]
  },
  {
   "cell_type": "code",
   "execution_count": 2,
   "metadata": {},
   "outputs": [],
   "source": [
    "def read_pickle(filename: str) -> pd.DataFrame:\n",
    "    with open(filename, 'rb') as f:\n",
    "        return pd.DataFrame(pickle.load(f))"
   ]
  },
  {
   "cell_type": "code",
   "execution_count": 4,
   "metadata": {},
   "outputs": [],
   "source": [
    "dataset_train_path = \"data/03-combined/spanish_paragraphs_clustering/clustring_embedding_train.pkl\"\n",
    "dataset_test_path = \"data/03-combined/spanish_paragraphs_clustering/clustring_embedding_test.pkl\"\n",
    "\n",
    "dataset_train = read_pickle(dataset_train_path)\n",
    "dataset_test = read_pickle(dataset_test_path)"
   ]
  },
  {
   "cell_type": "code",
   "execution_count": 5,
   "metadata": {},
   "outputs": [],
   "source": [
    "\n",
    "tsne = TSNE(n_components=2, random_state=0, perplexity=min(30, len(dataset_train[\"sample\"])-1), n_iter=1000)\n",
    "\n",
    "X_2d = tsne.fit_transform(np.array(dataset_train[\"sample\"].to_list()))"
   ]
  },
  {
   "cell_type": "code",
   "execution_count": 6,
   "metadata": {},
   "outputs": [
    {
     "data": {
      "image/png": "[encoded data removed]",
      "text/plain": [
       "<Figure size 600x500 with 1 Axes>"
      ]
     },
     "metadata": {},
     "output_type": "display_data"
    }
   ],
   "source": [
    "# represent the data in a scatter plot the are only 2 clusters the colors must be red for 0 and blue for 1\n",
    "colors = ['red', 'blue']\n",
    "plt.figure(figsize=(6, 5))\n",
    "for i in range(len(X_2d)):\n",
    "    plt.scatter(X_2d[i, 0], X_2d[i, 1], color=colors[dataset_train['label'][i]], s=10)\n",
    "# add legend\n",
    "plt.legend(['1', '0'], loc='upper right')\n",
    "plt.show()"
   ]
  },
  {
   "cell_type": "code",
   "execution_count": 7,
   "metadata": {},
   "outputs": [
    {
     "data": {
      "image/png": "[encoded data removed]",
      "text/plain": [
       "<Figure size 640x480 with 1 Axes>"
      ]
     },
     "metadata": {},
     "output_type": "display_data"
    }
   ],
   "source": [
    "# Count the occurrences of each label\n",
    "label_counts = dataset_train['label'].value_counts()\n",
    "\n",
    "# Plot the histogram manually to assign colors per label\n",
    "plt.bar(label_counts.index, label_counts.values, color=['blue', 'red'], alpha=0.7, edgecolor='black')\n",
    "\n",
    "# Adding labels, legend, and title\n",
    "plt.title(\"Distribution of Labels\")\n",
    "plt.xlabel(\"Labels\")\n",
    "plt.ylabel(\"Frequency\")\n",
    "plt.xticks([0, 1], ['Class 0', 'Class 1'])\n",
    "#plt.legend(['Class 0', 'Class 1'], loc=\"upper right\")\n",
    "\n",
    "# Show the plot\n",
    "plt.show()"
   ]
  },
  {
   "cell_type": "markdown",
   "metadata": {},
   "source": [
    "## CLF"
   ]
  },
  {
   "cell_type": "code",
   "execution_count": 8,
   "metadata": {},
   "outputs": [],
   "source": [
    "X_train = np.array(dataset_train[\"sample\"].to_list())\n",
    "# get subset of the data using shuffle\n",
    "X_train = X_train[:1000]\n",
    "y_train = np.array(dataset_train[\"label\"].to_list())\n",
    "y_train = y_train[:1000]\n",
    "X_test = np.array(dataset_test[\"sample\"].to_list())\n",
    "y_test = np.array(dataset_test[\"label\"].to_list())"
   ]
  },
  {
   "cell_type": "code",
   "execution_count": 9,
   "metadata": {},
   "outputs": [
    {
     "name": "stderr",
     "output_type": "stream",
     "text": [
      "  0%|          | 0/31 [00:00<?, ?it/s]"
     ]
    },
    {
     "name": "stderr",
     "output_type": "stream",
     "text": [
      "100%|██████████| 31/31 [00:04<00:00,  7.70it/s]"
     ]
    },
    {
     "name": "stdout",
     "output_type": "stream",
     "text": [
      "[LightGBM] [Info] Number of positive: 24, number of negative: 38\n",
      "[LightGBM] [Info] Auto-choosing col-wise multi-threading, the overhead of testing was 0.002209 seconds.\n",
      "You can set `force_col_wise=true` to remove the overhead.\n",
      "[LightGBM] [Info] Total Bins 17163\n",
      "[LightGBM] [Info] Number of data points in the train set: 62, number of used features: 768\n",
      "[LightGBM] [Info] [binary:BoostFromScore]: pavg=0.387097 -> initscore=-0.459532\n",
      "[LightGBM] [Info] Start training from score -0.459532\n",
      "[LightGBM] [Warning] No further splits with positive gain, best gain: -inf\n",
      "[LightGBM] [Warning] No further splits with positive gain, best gain: -inf\n",
      "[LightGBM] [Warning] No further splits with positive gain, best gain: -inf\n",
      "[LightGBM] [Warning] No further splits with positive gain, best gain: -inf\n",
      "[LightGBM] [Warning] No further splits with positive gain, best gain: -inf\n",
      "[LightGBM] [Warning] No further splits with positive gain, best gain: -inf\n",
      "[LightGBM] [Warning] No further splits with positive gain, best gain: -inf\n",
      "[LightGBM] [Warning] No further splits with positive gain, best gain: -inf\n",
      "[LightGBM] [Warning] No further splits with positive gain, best gain: -inf\n",
      "[LightGBM] [Warning] No further splits with positive gain, best gain: -inf\n",
      "[LightGBM] [Warning] No further splits with positive gain, best gain: -inf\n",
      "[LightGBM] [Warning] No further splits with positive gain, best gain: -inf\n",
      "[LightGBM] [Warning] No further splits with positive gain, best gain: -inf\n",
      "[LightGBM] [Warning] No further splits with positive gain, best gain: -inf\n",
      "[LightGBM] [Warning] No further splits with positive gain, best gain: -inf\n",
      "[LightGBM] [Warning] No further splits with positive gain, best gain: -inf\n",
      "[LightGBM] [Warning] No further splits with positive gain, best gain: -inf\n",
      "[LightGBM] [Warning] No further splits with positive gain, best gain: -inf\n",
      "[LightGBM] [Warning] No further splits with positive gain, best gain: -inf\n",
      "[LightGBM] [Warning] No further splits with positive gain, best gain: -inf\n",
      "[LightGBM] [Warning] No further splits with positive gain, best gain: -inf\n",
      "[LightGBM] [Warning] No further splits with positive gain, best gain: -inf\n",
      "[LightGBM] [Warning] No further splits with positive gain, best gain: -inf\n",
      "[LightGBM] [Warning] No further splits with positive gain, best gain: -inf\n",
      "[LightGBM] [Warning] No further splits with positive gain, best gain: -inf\n",
      "[LightGBM] [Warning] No further splits with positive gain, best gain: -inf\n",
      "[LightGBM] [Warning] No further splits with positive gain, best gain: -inf\n",
      "[LightGBM] [Warning] No further splits with positive gain, best gain: -inf\n",
      "[LightGBM] [Warning] No further splits with positive gain, best gain: -inf\n",
      "[LightGBM] [Warning] No further splits with positive gain, best gain: -inf\n",
      "[LightGBM] [Warning] No further splits with positive gain, best gain: -inf\n",
      "[LightGBM] [Warning] No further splits with positive gain, best gain: -inf\n",
      "[LightGBM] [Warning] No further splits with positive gain, best gain: -inf\n",
      "[LightGBM] [Warning] No further splits with positive gain, best gain: -inf\n",
      "[LightGBM] [Warning] No further splits with positive gain, best gain: -inf\n",
      "[LightGBM] [Warning] No further splits with positive gain, best gain: -inf\n",
      "[LightGBM] [Warning] No further splits with positive gain, best gain: -inf\n",
      "[LightGBM] [Warning] No further splits with positive gain, best gain: -inf\n",
      "[LightGBM] [Warning] No further splits with positive gain, best gain: -inf\n",
      "[LightGBM] [Warning] No further splits with positive gain, best gain: -inf\n",
      "[LightGBM] [Warning] No further splits with positive gain, best gain: -inf\n",
      "[LightGBM] [Warning] No further splits with positive gain, best gain: -inf\n",
      "[LightGBM] [Warning] No further splits with positive gain, best gain: -inf\n",
      "[LightGBM] [Warning] No further splits with positive gain, best gain: -inf\n",
      "[LightGBM] [Warning] No further splits with positive gain, best gain: -inf\n",
      "[LightGBM] [Warning] No further splits with positive gain, best gain: -inf\n",
      "[LightGBM] [Warning] No further splits with positive gain, best gain: -inf\n",
      "[LightGBM] [Warning] No further splits with positive gain, best gain: -inf\n",
      "[LightGBM] [Warning] No further splits with positive gain, best gain: -inf\n",
      "[LightGBM] [Warning] No further splits with positive gain, best gain: -inf\n",
      "[LightGBM] [Warning] No further splits with positive gain, best gain: -inf\n",
      "[LightGBM] [Warning] No further splits with positive gain, best gain: -inf\n",
      "[LightGBM] [Warning] No further splits with positive gain, best gain: -inf\n",
      "[LightGBM] [Warning] No further splits with positive gain, best gain: -inf\n",
      "[LightGBM] [Warning] No further splits with positive gain, best gain: -inf\n",
      "[LightGBM] [Warning] No further splits with positive gain, best gain: -inf\n",
      "[LightGBM] [Warning] No further splits with positive gain, best gain: -inf\n",
      "[LightGBM] [Warning] No further splits with positive gain, best gain: -inf\n",
      "[LightGBM] [Warning] No further splits with positive gain, best gain: -inf\n",
      "[LightGBM] [Warning] No further splits with positive gain, best gain: -inf\n",
      "[LightGBM] [Warning] No further splits with positive gain, best gain: -inf\n",
      "[LightGBM] [Warning] No further splits with positive gain, best gain: -inf\n",
      "[LightGBM] [Warning] No further splits with positive gain, best gain: -inf\n",
      "[LightGBM] [Warning] No further splits with positive gain, best gain: -inf\n",
      "[LightGBM] [Warning] No further splits with positive gain, best gain: -inf\n",
      "[LightGBM] [Warning] No further splits with positive gain, best gain: -inf\n",
      "[LightGBM] [Warning] No further splits with positive gain, best gain: -inf\n",
      "[LightGBM] [Warning] No further splits with positive gain, best gain: -inf\n",
      "[LightGBM] [Warning] No further splits with positive gain, best gain: -inf\n",
      "[LightGBM] [Warning] No further splits with positive gain, best gain: -inf\n",
      "[LightGBM] [Warning] No further splits with positive gain, best gain: -inf\n",
      "[LightGBM] [Warning] No further splits with positive gain, best gain: -inf\n",
      "[LightGBM] [Warning] No further splits with positive gain, best gain: -inf\n",
      "[LightGBM] [Warning] No further splits with positive gain, best gain: -inf\n",
      "[LightGBM] [Warning] No further splits with positive gain, best gain: -inf\n",
      "[LightGBM] [Warning] No further splits with positive gain, best gain: -inf\n",
      "[LightGBM] [Warning] No further splits with positive gain, best gain: -inf\n",
      "[LightGBM] [Warning] No further splits with positive gain, best gain: -inf\n",
      "[LightGBM] [Warning] No further splits with positive gain, best gain: -inf\n",
      "[LightGBM] [Warning] No further splits with positive gain, best gain: -inf\n",
      "[LightGBM] [Warning] No further splits with positive gain, best gain: -inf\n",
      "[LightGBM] [Warning] No further splits with positive gain, best gain: -inf\n",
      "[LightGBM] [Warning] No further splits with positive gain, best gain: -inf\n",
      "[LightGBM] [Warning] No further splits with positive gain, best gain: -inf\n",
      "[LightGBM] [Warning] No further splits with positive gain, best gain: -inf\n",
      "[LightGBM] [Warning] No further splits with positive gain, best gain: -inf\n",
      "[LightGBM] [Warning] No further splits with positive gain, best gain: -inf\n",
      "[LightGBM] [Warning] No further splits with positive gain, best gain: -inf\n",
      "[LightGBM] [Warning] No further splits with positive gain, best gain: -inf\n",
      "[LightGBM] [Warning] No further splits with positive gain, best gain: -inf\n",
      "[LightGBM] [Warning] No further splits with positive gain, best gain: -inf\n",
      "[LightGBM] [Warning] No further splits with positive gain, best gain: -inf\n",
      "[LightGBM] [Warning] No further splits with positive gain, best gain: -inf\n",
      "[LightGBM] [Warning] No further splits with positive gain, best gain: -inf\n",
      "[LightGBM] [Warning] No further splits with positive gain, best gain: -inf\n",
      "[LightGBM] [Warning] No further splits with positive gain, best gain: -inf\n",
      "[LightGBM] [Warning] No further splits with positive gain, best gain: -inf\n",
      "[LightGBM] [Warning] No further splits with positive gain, best gain: -inf\n",
      "[LightGBM] [Warning] No further splits with positive gain, best gain: -inf\n",
      "[LightGBM] [Warning] No further splits with positive gain, best gain: -inf\n"
     ]
    },
    {
     "name": "stderr",
     "output_type": "stream",
     "text": [
      "\n"
     ]
    }
   ],
   "source": [
    "clf = LazyClassifier(verbose=0,ignore_warnings=True, custom_metric=None)\n",
    "models,predictions = clf.fit(X_train, X_test, y_train, y_test)"
   ]
  },
  {
   "cell_type": "code",
   "execution_count": 10,
   "metadata": {},
   "outputs": [
    {
     "name": "stdout",
     "output_type": "stream",
     "text": [
      "                               Accuracy  Balanced Accuracy  ROC AUC  F1 Score  \\\n",
      "Model                                                                           \n",
      "LGBMClassifier                     0.80               0.86     0.86      0.81   \n",
      "NearestCentroid                    0.80               0.86     0.86      0.81   \n",
      "LogisticRegression                 0.70               0.79     0.79      0.71   \n",
      "SGDClassifier                      0.70               0.79     0.79      0.71   \n",
      "Perceptron                         0.70               0.79     0.79      0.71   \n",
      "BernoulliNB                        0.80               0.76     0.76      0.80   \n",
      "ExtraTreesClassifier               0.80               0.76     0.76      0.80   \n",
      "NuSVC                              0.80               0.76     0.76      0.80   \n",
      "XGBClassifier                      0.70               0.69     0.69      0.71   \n",
      "GaussianNB                         0.70               0.69     0.69      0.71   \n",
      "SVC                                0.80               0.67     0.67      0.76   \n",
      "PassiveAggressiveClassifier        0.50               0.64     0.64      0.47   \n",
      "LinearSVC                          0.50               0.64     0.64      0.47   \n",
      "BaggingClassifier                  0.60               0.62     0.62      0.62   \n",
      "AdaBoostClassifier                 0.60               0.52     0.52      0.60   \n",
      "LabelSpreading                     0.70               0.50     0.50      0.58   \n",
      "LabelPropagation                   0.70               0.50     0.50      0.58   \n",
      "KNeighborsClassifier               0.30               0.50     0.50      0.14   \n",
      "DummyClassifier                    0.70               0.50     0.50      0.58   \n",
      "CalibratedClassifierCV             0.70               0.50     0.50      0.58   \n",
      "LinearDiscriminantAnalysis         0.50               0.45     0.45      0.52   \n",
      "RidgeClassifier                    0.50               0.45     0.45      0.52   \n",
      "RidgeClassifierCV                  0.50               0.45     0.45      0.52   \n",
      "DecisionTreeClassifier             0.50               0.45     0.45      0.52   \n",
      "QuadraticDiscriminantAnalysis      0.60               0.43     0.43      0.53   \n",
      "RandomForestClassifier             0.60               0.43     0.43      0.53   \n",
      "ExtraTreeClassifier                0.50               0.36     0.36      0.47   \n",
      "\n",
      "                               Time Taken  \n",
      "Model                                      \n",
      "LGBMClassifier                       0.05  \n",
      "NearestCentroid                      0.10  \n",
      "LogisticRegression                   0.03  \n",
      "SGDClassifier                        0.02  \n",
      "Perceptron                           0.01  \n",
      "BernoulliNB                          0.02  \n",
      "ExtraTreesClassifier                 0.04  \n",
      "NuSVC                                0.02  \n",
      "XGBClassifier                        0.63  \n",
      "GaussianNB                           0.01  \n",
      "SVC                                  0.02  \n",
      "PassiveAggressiveClassifier          0.01  \n",
      "LinearSVC                            0.11  \n",
      "BaggingClassifier                    0.09  \n",
      "AdaBoostClassifier                   0.27  \n",
      "LabelSpreading                       0.02  \n",
      "LabelPropagation                     0.02  \n",
      "KNeighborsClassifier                 0.02  \n",
      "DummyClassifier                      0.01  \n",
      "CalibratedClassifierCV               0.19  \n",
      "LinearDiscriminantAnalysis           2.13  \n",
      "RidgeClassifier                      0.01  \n",
      "RidgeClassifierCV                    0.02  \n",
      "DecisionTreeClassifier               0.02  \n",
      "QuadraticDiscriminantAnalysis        0.02  \n",
      "RandomForestClassifier               0.12  \n",
      "ExtraTreeClassifier                  0.01  \n"
     ]
    }
   ],
   "source": [
    "print(models)"
   ]
  },
  {
   "cell_type": "code",
   "execution_count": 11,
   "metadata": {},
   "outputs": [
    {
     "name": "stdout",
     "output_type": "stream",
     "text": [
      "                               Accuracy  Balanced Accuracy  ROC AUC  F1 Score  \\\n",
      "Model                                                                           \n",
      "LGBMClassifier                     0.80               0.86     0.86      0.81   \n",
      "NearestCentroid                    0.80               0.86     0.86      0.81   \n",
      "LogisticRegression                 0.70               0.79     0.79      0.71   \n",
      "SGDClassifier                      0.70               0.79     0.79      0.71   \n",
      "Perceptron                         0.70               0.79     0.79      0.71   \n",
      "BernoulliNB                        0.80               0.76     0.76      0.80   \n",
      "ExtraTreesClassifier               0.80               0.76     0.76      0.80   \n",
      "NuSVC                              0.80               0.76     0.76      0.80   \n",
      "XGBClassifier                      0.70               0.69     0.69      0.71   \n",
      "GaussianNB                         0.70               0.69     0.69      0.71   \n",
      "SVC                                0.80               0.67     0.67      0.76   \n",
      "PassiveAggressiveClassifier        0.50               0.64     0.64      0.47   \n",
      "LinearSVC                          0.50               0.64     0.64      0.47   \n",
      "BaggingClassifier                  0.60               0.62     0.62      0.62   \n",
      "AdaBoostClassifier                 0.60               0.52     0.52      0.60   \n",
      "LabelSpreading                     0.70               0.50     0.50      0.58   \n",
      "LabelPropagation                   0.70               0.50     0.50      0.58   \n",
      "KNeighborsClassifier               0.30               0.50     0.50      0.14   \n",
      "DummyClassifier                    0.70               0.50     0.50      0.58   \n",
      "CalibratedClassifierCV             0.70               0.50     0.50      0.58   \n",
      "LinearDiscriminantAnalysis         0.50               0.45     0.45      0.52   \n",
      "RidgeClassifier                    0.50               0.45     0.45      0.52   \n",
      "RidgeClassifierCV                  0.50               0.45     0.45      0.52   \n",
      "DecisionTreeClassifier             0.50               0.45     0.45      0.52   \n",
      "QuadraticDiscriminantAnalysis      0.60               0.43     0.43      0.53   \n",
      "RandomForestClassifier             0.60               0.43     0.43      0.53   \n",
      "ExtraTreeClassifier                0.50               0.36     0.36      0.47   \n",
      "\n",
      "                               Time Taken  \n",
      "Model                                      \n",
      "LGBMClassifier                       0.05  \n",
      "NearestCentroid                      0.10  \n",
      "LogisticRegression                   0.03  \n",
      "SGDClassifier                        0.02  \n",
      "Perceptron                           0.01  \n",
      "BernoulliNB                          0.02  \n",
      "ExtraTreesClassifier                 0.04  \n",
      "NuSVC                                0.02  \n",
      "XGBClassifier                        0.63  \n",
      "GaussianNB                           0.01  \n",
      "SVC                                  0.02  \n",
      "PassiveAggressiveClassifier          0.01  \n",
      "LinearSVC                            0.11  \n",
      "BaggingClassifier                    0.09  \n",
      "AdaBoostClassifier                   0.27  \n",
      "LabelSpreading                       0.02  \n",
      "LabelPropagation                     0.02  \n",
      "KNeighborsClassifier                 0.02  \n",
      "DummyClassifier                      0.01  \n",
      "CalibratedClassifierCV               0.19  \n",
      "LinearDiscriminantAnalysis           2.13  \n",
      "RidgeClassifier                      0.01  \n",
      "RidgeClassifierCV                    0.02  \n",
      "DecisionTreeClassifier               0.02  \n",
      "QuadraticDiscriminantAnalysis        0.02  \n",
      "RandomForestClassifier               0.12  \n",
      "ExtraTreeClassifier                  0.01  \n"
     ]
    }
   ],
   "source": [
    "print(predictions)"
   ]
  },
  {
   "cell_type": "markdown",
   "metadata": {},
   "source": [
    "# Optimzed clf"
   ]
  },
  {
   "cell_type": "code",
   "execution_count": 12,
   "metadata": {},
   "outputs": [],
   "source": [
    "X_train = np.array(dataset_train[\"sample\"].to_list())\n",
    "y_train = np.array(dataset_train[\"label\"].to_list())\n",
    "X_test = np.array(dataset_test[\"sample\"].to_list())\n",
    "y_test = np.array(dataset_test[\"label\"].to_list())"
   ]
  },
  {
   "cell_type": "code",
   "execution_count": 13,
   "metadata": {},
   "outputs": [
    {
     "name": "stdout",
     "output_type": "stream",
     "text": [
      "\n",
      "Optimizing RandomForest...\n",
      "Best parameters for RandomForest: {'n_estimators': 50, 'min_samples_split': 2, 'min_samples_leaf': 2, 'max_depth': 20, 'bootstrap': False}\n",
      "Classification report for RandomForest:\n",
      "              precision    recall  f1-score   support\n",
      "\n",
      "           0       0.75      0.86      0.80         7\n",
      "           1       0.50      0.33      0.40         3\n",
      "\n",
      "    accuracy                           0.70        10\n",
      "   macro avg       0.62      0.60      0.60        10\n",
      "weighted avg       0.68      0.70      0.68        10\n",
      "\n"
     ]
    }
   ],
   "source": [
    "\n",
    "\n",
    "# Definición de modelos y sus respectivos hiperparámetros\n",
    "models = {\n",
    "    \"RandomForest\": (RandomForestClassifier(n_jobs=-1), {\n",
    "        \"n_estimators\": [50, 100, 200],\n",
    "        \"max_depth\": [None, 10, 20, 30],\n",
    "        \"min_samples_split\": [2, 5, 10],\n",
    "        \"min_samples_leaf\": [1, 2, 4],\n",
    "        \"bootstrap\": [True, False]\n",
    "    }),\n",
    "}\n",
    "\n",
    "# Diccionario para guardar los mejores modelos\n",
    "best_models = {}\n",
    "\n",
    "# Optimización y evaluación\n",
    "for model_name, (model, param_grid) in models.items():\n",
    "    print(f\"\\nOptimizing {model_name}...\")\n",
    "    grid_search = RandomizedSearchCV(model, param_grid, cv=5, scoring='accuracy', n_jobs=-1)\n",
    "    grid_search.fit(X_train, y_train)\n",
    "    \n",
    "    # Mejores hiperparámetros\n",
    "    print(f\"Best parameters for {model_name}: {grid_search.best_params_}\")\n",
    "    \n",
    "    # Evaluación en conjunto de prueba\n",
    "    best_model = grid_search.best_estimator_\n",
    "    y_pred = best_model.predict(X_test)\n",
    "    print(f\"Classification report for {model_name}:\\n{classification_report(y_test, y_pred)}\")\n",
    "    \n",
    "    # Guardar el mejor modelo en el diccionario\n",
    "    best_models[model_name] = best_model"
   ]
  },
  {
   "cell_type": "code",
   "execution_count": 14,
   "metadata": {},
   "outputs": [
    {
     "name": "stdout",
     "output_type": "stream",
     "text": [
      "Modelo RandomForest guardado como RandomForest_best_model.pkl\n"
     ]
    }
   ],
   "source": [
    "import os\n",
    "\n",
    "model_to_save = \"RandomForest\"  # Cambiar por \"SVC\" o \"GaussianNB\" si se prefiere otro\n",
    "FOLDER = \"models\"\n",
    "os.makedirs(FOLDER, exist_ok=True)\n",
    "if model_to_save in best_models:\n",
    "    file = os.path.join(FOLDER, f\"{model_to_save}_best_model.pkl\")\n",
    "    joblib.dump(best_models[model_to_save], file)\n",
    "    print(f\"Modelo {model_to_save} guardado como {model_to_save}_best_model.pkl\")\n",
    "else:\n",
    "    print(f\"No se encontró el modelo {model_to_save} en el diccionario.\")\n"
   ]
  },
  {
   "cell_type": "code",
   "execution_count": 53,
   "metadata": {},
   "outputs": [
    {
     "name": "stdout",
     "output_type": "stream",
     "text": [
      "RandomForestClassifier(bootstrap=False, max_depth=30, min_samples_leaf=2,\n",
      "                       min_samples_split=10, n_estimators=200, n_jobs=-1)\n"
     ]
    }
   ],
   "source": [
    "# load the model\n",
    "loaded_model = joblib.load(file)\n",
    "print(loaded_model)"
   ]
  }
 ],
 "metadata": {
  "kernelspec": {
   "display_name": "summarization-multilingual",
   "language": "python",
   "name": "python3"
  },
  "language_info": {
   "codemirror_mode": {
    "name": "ipython",
    "version": 3
   },
   "file_extension": ".py",
   "mimetype": "text/x-python",
   "name": "python",
   "nbconvert_exporter": "python",
   "pygments_lexer": "ipython3",
   "version": "3.10.15"
  }
 },
 "nbformat": 4,
 "nbformat_minor": 2
}
